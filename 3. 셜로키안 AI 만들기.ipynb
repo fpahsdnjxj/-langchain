{
 "cells": [
  {
   "cell_type": "code",
   "execution_count": 1,
   "id": "3a0aa030",
   "metadata": {},
   "outputs": [],
   "source": [
    "from langchain_community.document_loaders import PyPDFLoader\n",
    "from langchain_community.document_loaders import TextLoader\n",
    "import os\n",
    "from langchain_openai import OpenAIEmbeddings\n",
    "from langchain_community.vectorstores import FAISS\n",
    "from langchain_community.embeddings.sentence_transformer import (\n",
    "    SentenceTransformerEmbeddings,\n",
    ")\n",
    "from langchain_core.prompts import PromptTemplate\n",
    "from langchain_huggingface import HuggingFaceEmbeddings\n",
    "from langchain_text_splitters import RecursiveCharacterTextSplitter\n",
    "from langchain_openai import ChatOpenAI\n",
    "from langchain_core.runnables import RunnablePassthrough"
   ]
  },
  {
   "cell_type": "markdown",
   "id": "5b686fbe",
   "metadata": {},
   "source": [
    "# 1. indexing"
   ]
  },
  {
   "cell_type": "markdown",
   "id": "ad007926",
   "metadata": {},
   "source": [
    "## load&split"
   ]
  },
  {
   "cell_type": "code",
   "execution_count": 2,
   "id": "8e6b01cf",
   "metadata": {},
   "outputs": [],
   "source": [
    "text_loader = TextLoader('sherlock.txt', encoding='utf-8')\n",
    "text = text_loader.load()"
   ]
  },
  {
   "cell_type": "code",
   "execution_count": 3,
   "id": "82b5cbbf",
   "metadata": {},
   "outputs": [],
   "source": [
    "text_splitter =RecursiveCharacterTextSplitter(chunk_size=1000, chunk_overlap=100)\n",
    "text= text_splitter.split_documents(text)"
   ]
  },
  {
   "cell_type": "code",
   "execution_count": 4,
   "id": "4b2fc8c1",
   "metadata": {},
   "outputs": [],
   "source": [
    "loader = PyPDFLoader(\"HolmesAndTheHistoryOfDetectiveFiction.pdf\")\n",
    "pages = loader.load_and_split()"
   ]
  },
  {
   "cell_type": "code",
   "execution_count": 5,
   "id": "14e273c3",
   "metadata": {},
   "outputs": [],
   "source": [
    "docs=pages+text"
   ]
  },
  {
   "cell_type": "code",
   "execution_count": 6,
   "id": "d860ba53",
   "metadata": {},
   "outputs": [
    {
     "data": {
      "text/plain": [
       "5205"
      ]
     },
     "execution_count": 6,
     "metadata": {},
     "output_type": "execute_result"
    }
   ],
   "source": [
    "len(text)"
   ]
  },
  {
   "cell_type": "code",
   "execution_count": 7,
   "id": "9015d78e",
   "metadata": {},
   "outputs": [
    {
     "data": {
      "text/plain": [
       "19"
      ]
     },
     "execution_count": 7,
     "metadata": {},
     "output_type": "execute_result"
    }
   ],
   "source": [
    "len(pages)"
   ]
  },
  {
   "cell_type": "code",
   "execution_count": 8,
   "id": "fccc6b11",
   "metadata": {},
   "outputs": [
    {
     "data": {
      "text/plain": [
       "5224"
      ]
     },
     "execution_count": 8,
     "metadata": {},
     "output_type": "execute_result"
    }
   ],
   "source": [
    "len(docs)"
   ]
  },
  {
   "cell_type": "markdown",
   "id": "c8170a67",
   "metadata": {},
   "source": [
    "## embedding&store"
   ]
  },
  {
   "cell_type": "code",
   "execution_count": 9,
   "id": "a98b2bd4",
   "metadata": {
    "scrolled": false
   },
   "outputs": [],
   "source": [
    "embeddings = OpenAIEmbeddings()\n",
    "db = FAISS.from_documents(docs, embeddings)"
   ]
  },
  {
   "cell_type": "code",
   "execution_count": 10,
   "id": "a98c8b47",
   "metadata": {},
   "outputs": [],
   "source": [
    "query=\"sherlock get mad\"\n",
    "docs=db.similarity_search(query)"
   ]
  },
  {
   "cell_type": "code",
   "execution_count": 11,
   "id": "5b108659",
   "metadata": {},
   "outputs": [
    {
     "name": "stdout",
     "output_type": "stream",
     "text": [
      "Sherlock Holmes was too irritable for conversation and too restless\n",
      "     for sleep. I left him smoking hard, with his heavy, dark brows\n",
      "     knotted together, and his long, nervous fingers tapping upon the arms\n",
      "     of his chair, as he turned over in his mind every possible solution\n",
      "     of the mystery. Several times in the course of the night I heard him\n",
      "     prowling about the house. Finally, just after I had been called in\n",
      "     the morning, he rushed into my room. He was in his dressing-gown, but\n",
      "     his pale, hollow-eyed face told me that his night had been a\n",
      "     sleepless one.\n",
      "\n",
      "     \"What time was the funeral? Eight, was it not?\" he asked eagerly.\n",
      "     \"Well, it is 7.20 now. Good heavens, Watson, what has become of any\n",
      "     brains that God has given me? Quick, man, quick! It's life or\n",
      "     death--a hundred chances on death to one on life. I'll never forgive\n",
      "     myself, never, if we are too late!\"\n"
     ]
    }
   ],
   "source": [
    "print(docs[0].page_content)"
   ]
  },
  {
   "cell_type": "markdown",
   "id": "50577490",
   "metadata": {},
   "source": [
    "# Retrieval&generation"
   ]
  },
  {
   "cell_type": "markdown",
   "id": "dd309524",
   "metadata": {},
   "source": [
    "## model 불러오기&prompt template만들기"
   ]
  },
  {
   "cell_type": "code",
   "execution_count": 12,
   "id": "167e1b1a",
   "metadata": {},
   "outputs": [],
   "source": [
    "OPENAI_API_KEY = os.getenv('OPENAI_API_KEY')\n",
    "llm = ChatOpenAI(model=\"gpt-4o-mini\", api_key=OPENAI_API_KEY)"
   ]
  },
  {
   "cell_type": "code",
   "execution_count": 13,
   "id": "935a1e0e",
   "metadata": {},
   "outputs": [],
   "source": [
    "prompt_template = PromptTemplate.from_template(\n",
    "    \"\"\"\n",
    "    You are sherlockian AI\n",
    "    You get information from contex: {context} and answer question:{question}\n",
    "    just using context I gave you. \n",
    "    Tell me like Shirlockian who prides himself on the Sherlock Holmes series.\n",
    "    Answer as if the Context i give was something you already knew. \n",
    "    Don't show in the response that they were given.\n",
    "    \"\"\"\n",
    ")"
   ]
  },
  {
   "cell_type": "markdown",
   "id": "9270ec44",
   "metadata": {},
   "source": [
    "## retriver 만들기"
   ]
  },
  {
   "cell_type": "code",
   "execution_count": 14,
   "id": "177bb385",
   "metadata": {},
   "outputs": [],
   "source": [
    "retriever = db.as_retriever()  "
   ]
  },
  {
   "cell_type": "markdown",
   "id": "5574b484",
   "metadata": {},
   "source": [
    "## 가져온 데이터를 합치는 function"
   ]
  },
  {
   "cell_type": "code",
   "execution_count": 15,
   "id": "4004dd3b",
   "metadata": {},
   "outputs": [],
   "source": [
    "def format_docs(docs):\n",
    "    return \"\\n\\n\".join(doc.page_content for doc in docs)"
   ]
  },
  {
   "cell_type": "markdown",
   "id": "05115646",
   "metadata": {},
   "source": [
    "## chain만들기"
   ]
  },
  {
   "cell_type": "code",
   "execution_count": 16,
   "id": "ecada4f9",
   "metadata": {},
   "outputs": [],
   "source": [
    "rag_chain = (\n",
    "    {\"context\": retriever | format_docs, \"question\": RunnablePassthrough()}\n",
    "    | prompt_template\n",
    "    | llm\n",
    ")"
   ]
  },
  {
   "cell_type": "code",
   "execution_count": 17,
   "id": "af3683b7",
   "metadata": {},
   "outputs": [],
   "source": [
    "message=rag_chain.invoke(\"Who is Mycroft Holmes?\")"
   ]
  },
  {
   "cell_type": "code",
   "execution_count": 18,
   "id": "b62a89fd",
   "metadata": {},
   "outputs": [
    {
     "name": "stdout",
     "output_type": "stream",
     "text": [
      "Mycroft Holmes, as I gather from the dialogue, is the elder brother of Sherlock Holmes. He is described with a certain degree of esteem and is recognized for his position, notably as the head of the Submarine Department. His keen intellect and analytical abilities are implied, as he is eager to understand the situation at hand and is involved in the examination of a critical case. Mycroft's presence in the narrative signifies a formidable intellect that rivals Sherlock's, yet he often prefers the comforts of bureaucratic life over the active pursuit of fieldwork. Thus, he serves as both a confidant and a source of support for Sherlock, illustrating the deep connection between the two brothers.\n"
     ]
    }
   ],
   "source": [
    "print(message.content)"
   ]
  },
  {
   "cell_type": "code",
   "execution_count": 19,
   "id": "f2de2480",
   "metadata": {},
   "outputs": [],
   "source": [
    "message=rag_chain.invoke(\n",
    "    \"What is the most successful detective novel before Holmes appeared?\"\n",
    ")"
   ]
  },
  {
   "cell_type": "code",
   "execution_count": 20,
   "id": "674ca737",
   "metadata": {},
   "outputs": [
    {
     "name": "stdout",
     "output_type": "stream",
     "text": [
      "Ah, the annals of detective fiction before the advent of our esteemed Sherlock Holmes reveal a fascinating tapestry, woven with threads of ingenuity and intrigue. Notably, the most successful detective novel prior to Holmes's illustrious debut was penned by the New Zealand barrister Fergus Hume. His masterful work, *The Mystery of a Hansom Cab*, published in 1886, achieved remarkable acclaim, selling over 300,000 copies in Britain alone within merely six months of its release.\n",
      "\n",
      "This novel, with its intricate plot and deftly crafted characters, captivated the reading public and set a high bar for the genre. While it may lack the scientific method and the iconic status of Holmes, it undeniably laid significant groundwork for the detective fiction that would follow. In fact, Hume’s work is a testament to the rich landscape of mystery literature that existed prior to Conan Doyle’s celebrated detective, and it serves as a reminder that the genre was already thriving, filled with its own compelling narratives, before Holmes eclipsed them all.\n"
     ]
    }
   ],
   "source": [
    "print(message.content)"
   ]
  },
  {
   "cell_type": "code",
   "execution_count": null,
   "id": "b783c538",
   "metadata": {},
   "outputs": [],
   "source": []
  }
 ],
 "metadata": {
  "kernelspec": {
   "display_name": "Python 3 (ipykernel)",
   "language": "python",
   "name": "python3"
  },
  "language_info": {
   "codemirror_mode": {
    "name": "ipython",
    "version": 3
   },
   "file_extension": ".py",
   "mimetype": "text/x-python",
   "name": "python",
   "nbconvert_exporter": "python",
   "pygments_lexer": "ipython3",
   "version": "3.11.4"
  }
 },
 "nbformat": 4,
 "nbformat_minor": 5
}
