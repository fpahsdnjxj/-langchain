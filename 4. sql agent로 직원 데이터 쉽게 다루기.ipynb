{
 "cells": [
  {
   "cell_type": "markdown",
   "id": "0437da3f",
   "metadata": {},
   "source": [
    "# 0. 데이터 베이스 만들기"
   ]
  },
  {
   "cell_type": "markdown",
   "id": "353e261c",
   "metadata": {},
   "source": [
    "데이터 출처: https://www.kaggle.com/datasets/bharatmaheshwarids/5000-employee-dataset-of-an-organization-dummy\n",
    "\n",
    "데이터 컬럼:\n",
    "1. Name(이름)\n",
    "2. Address(주소)\n",
    "3. Salary(임금)\n",
    "4. DOJ(입사 날)\n",
    "5. DOB(탄생일)\n",
    "6. Age(나이)\n",
    "7. Sex(성별)\n",
    "8. Dependents(부양가족의 수)\n",
    "9. HRA(기본 급여에 대해 받는 주택임대 수당)\n",
    "10. DA(기본 급여에 대해 받는 물가수당)\n",
    "11. PF(급여에서 공제되는 직원 공적 기금(연금))\n",
    "12. Gross Salary(세금 공제 전 총 급여)\n",
    "13. Insurance(직원이 가지고 있는 보험)\n",
    "14. Marital Status(결혼 상태)\n",
    "15. In Company Years(이 회사에서 일한 년수)\n",
    "16. Year of Experience(\n",
    "17. Department(일하는 부서)\n",
    "18. Position(직무)"
   ]
  },
  {
   "cell_type": "code",
   "execution_count": 1,
   "id": "0df43749",
   "metadata": {},
   "outputs": [],
   "source": [
    "import os\n",
    "import pandas as pd\n",
    "from sqlalchemy import create_engine"
   ]
  },
  {
   "cell_type": "code",
   "execution_count": 3,
   "id": "3524301f",
   "metadata": {},
   "outputs": [],
   "source": [
    "df= pd.read_csv(\"Dummy_5000_Employee_Details_Dataset.csv\", encoding='utf-8')"
   ]
  },
  {
   "cell_type": "code",
   "execution_count": 4,
   "id": "8ab6ae0d",
   "metadata": {},
   "outputs": [],
   "source": [
    "engine = create_engine(\"sqlite:///employee.db\")"
   ]
  },
  {
   "cell_type": "code",
   "execution_count": 5,
   "id": "95dfdee0",
   "metadata": {},
   "outputs": [
    {
     "data": {
      "text/plain": [
       "5000"
      ]
     },
     "execution_count": 5,
     "metadata": {},
     "output_type": "execute_result"
    }
   ],
   "source": [
    "df.to_sql(\"employee\", engine, index=False)"
   ]
  },
  {
   "cell_type": "markdown",
   "id": "f46cc8d1",
   "metadata": {},
   "source": [
    "# 1. 단계별로 진행하기"
   ]
  },
  {
   "cell_type": "code",
   "execution_count": 21,
   "id": "7d09cee1",
   "metadata": {},
   "outputs": [],
   "source": [
    "import os\n",
    "from langchain_community.utilities import SQLDatabase\n",
    "from langchain.chains import create_sql_query_chain\n",
    "from langchain_openai import ChatOpenAI\n",
    "from sqlalchemy import text\n",
    "from langchain_community.tools.sql_database.tool import QuerySQLDataBaseTool\n",
    "from langchain_core.prompts import PromptTemplate"
   ]
  },
  {
   "cell_type": "code",
   "execution_count": 8,
   "id": "28d15c3a",
   "metadata": {},
   "outputs": [
    {
     "name": "stdout",
     "output_type": "stream",
     "text": [
      "['employee']\n"
     ]
    }
   ],
   "source": [
    "db = SQLDatabase.from_uri(\"sqlite:///employee.db\")\n",
    "print(db.get_usable_table_names())"
   ]
  },
  {
   "cell_type": "code",
   "execution_count": 9,
   "id": "1ce1050a",
   "metadata": {},
   "outputs": [
    {
     "data": {
      "text/plain": [
       "\"[(0, 0, 'VgwbPyBn', 'jyNxKZtk St, piZQhYcARo, PUN 172813', 149289.04, '1998-04-27', '1971-03-27', 53, 'Other', 2.0, 8776.095999999998, 35233.66637469586, 22142.724764963503, 171156.07760973237, None, 'Widowed', 26, 32, 'Sales', 'Sales Director')]\""
      ]
     },
     "execution_count": 9,
     "metadata": {},
     "output_type": "execute_result"
    }
   ],
   "source": [
    "db.run(\"SELECT * FROM employee LIMIT 1\")"
   ]
  },
  {
   "cell_type": "code",
   "execution_count": 17,
   "id": "b0f7cd86",
   "metadata": {},
   "outputs": [
    {
     "data": {
      "text/plain": [
       "'SELECT COUNT(\"index\") \\nFROM employee \\nWHERE \"Marital Status\" = \\'Single\\' OR \"Marital Status\" = \\'Divorced\\' OR \"Marital Status\" = \\'Widowed\\''"
      ]
     },
     "execution_count": 17,
     "metadata": {},
     "output_type": "execute_result"
    }
   ],
   "source": [
    "llm = ChatOpenAI(model=\"gpt-3.5-turbo\", temperature=0)\n",
    "chain = create_sql_query_chain(llm, db)\n",
    "sql = chain.invoke({\"question\": \"회사에서 결혼 안한 직원들은 몇명이야?\"})\n",
    "sql"
   ]
  },
  {
   "cell_type": "code",
   "execution_count": 26,
   "id": "6d94670c",
   "metadata": {},
   "outputs": [
    {
     "name": "stdout",
     "output_type": "stream",
     "text": [
      "You are a SQLite expert. Given an input question, first create a syntactically correct SQLite query to run, then look at the results of the query and return the answer to the input question.\n",
      "Unless the user specifies in the question a specific number of examples to obtain, query for at most 5 results using the LIMIT clause as per SQLite. You can order the results to return the most informative data in the database.\n",
      "Never query for all columns from a table. You must query only the columns that are needed to answer the question. Wrap each column name in double quotes (\") to denote them as delimited identifiers.\n",
      "Pay attention to use only the column names you can see in the tables below. Be careful to not query for columns that do not exist. Also, pay attention to which column is in which table.\n",
      "Pay attention to use date('now') function to get the current date, if the question involves \"today\".\n",
      "\n",
      "Use the following format:\n",
      "\n",
      "Question: Question here\n",
      "SQLQuery: SQL Query to run\n",
      "SQLResult: Result of the SQLQuery\n",
      "Answer: Final answer here\n",
      "\n",
      "Only use the following tables:\n",
      "\u001b[33;1m\u001b[1;3m{table_info}\u001b[0m\n",
      "\n",
      "Question: \u001b[33;1m\u001b[1;3m{input}\u001b[0m\n"
     ]
    }
   ],
   "source": [
    "chain.get_prompts()[0].pretty_print()"
   ]
  },
  {
   "cell_type": "code",
   "execution_count": 16,
   "id": "6eb52743",
   "metadata": {},
   "outputs": [
    {
     "name": "stdout",
     "output_type": "stream",
     "text": [
      "[(1948,)]\n"
     ]
    }
   ],
   "source": [
    "response = db.run(sql)\n",
    "print(response)"
   ]
  },
  {
   "cell_type": "code",
   "execution_count": 18,
   "id": "732298d4",
   "metadata": {},
   "outputs": [
    {
     "data": {
      "text/plain": [
       "'[(1948,)]'"
      ]
     },
     "execution_count": 18,
     "metadata": {},
     "output_type": "execute_result"
    }
   ],
   "source": [
    "execute_query = QuerySQLDataBaseTool(db=db)\n",
    "write_query = create_sql_query_chain(llm, db)\n",
    "chain = write_query | execute_query\n",
    "chain.invoke({\"question\": \"회사에서 결혼 안한 직원들은 몇명이야?\"})"
   ]
  },
  {
   "cell_type": "code",
   "execution_count": 25,
   "id": "ebc2868c",
   "metadata": {},
   "outputs": [
    {
     "name": "stdout",
     "output_type": "stream",
     "text": [
      "결혼을 하지 않은 직원은 1948명입니다.\n"
     ]
    }
   ],
   "source": [
    "answer_prompt = PromptTemplate.from_template(\n",
    "    \"\"\"Given the following user question, corresponding SQL query, and SQL result, answer the user question.\n",
    "\n",
    "    Question: {question}\n",
    "    SQL Query: {query}\n",
    "    SQL Result: {result}\n",
    "    Answer: \"\"\"\n",
    ")\n",
    "\n",
    "answer_chain=answer_prompt|llm\n",
    "question=\"회사에서 결혼 안한 직원들은 몇명이야?\"\n",
    "answer=answer_chain.invoke({\"question\": question, \"query\": sql, \"result\": response})\n",
    "print(answer.content)"
   ]
  },
  {
   "cell_type": "code",
   "execution_count": null,
   "id": "7cc4e8c1",
   "metadata": {},
   "outputs": [],
   "source": [
    "#한번에 해보고 싶을때!\n",
    "all_chain="
   ]
  },
  {
   "cell_type": "markdown",
   "id": "168c17b5",
   "metadata": {},
   "source": [
    "## 2. agent 사용하기"
   ]
  },
  {
   "cell_type": "code",
   "execution_count": 14,
   "id": "0ef1673b",
   "metadata": {},
   "outputs": [
    {
     "name": "stdout",
     "output_type": "stream",
     "text": [
      "\n",
      "\n",
      "\u001b[1m> Entering new SQL Agent Executor chain...\u001b[0m\n",
      "\u001b[32;1m\u001b[1;3m\n",
      "Invoking: `sql_db_list_tables` with `{}`\n",
      "\n",
      "\n",
      "\u001b[0m\u001b[38;5;200m\u001b[1;3memployee\u001b[0m\u001b[32;1m\u001b[1;3m\n",
      "Invoking: `sql_db_schema` with `{'table_names': 'employee'}`\n",
      "\n",
      "\n",
      "\u001b[0m\u001b[33;1m\u001b[1;3m\n",
      "CREATE TABLE employee (\n",
      "\t\"index\" BIGINT, \n",
      "\t\"Unnamed: 0\" BIGINT, \n",
      "\t\"Name\" TEXT, \n",
      "\t\"Address\" TEXT, \n",
      "\t\"Salary\" FLOAT, \n",
      "\t\"DOJ\" TEXT, \n",
      "\t\"DOB\" TEXT, \n",
      "\t\"Age\" BIGINT, \n",
      "\t\"Sex\" TEXT, \n",
      "\t\"Dependents\" FLOAT, \n",
      "\t\"HRA\" FLOAT, \n",
      "\t\"DA\" FLOAT, \n",
      "\t\"PF\" FLOAT, \n",
      "\t\"Gross Salary\" FLOAT, \n",
      "\t\"Insurance\" TEXT, \n",
      "\t\"Marital Status\" TEXT, \n",
      "\t\"In Company Years\" BIGINT, \n",
      "\t\"Year of Experience\" BIGINT, \n",
      "\t\"Department\" TEXT, \n",
      "\t\"Position\" TEXT\n",
      ")\n",
      "\n",
      "/*\n",
      "3 rows from employee table:\n",
      "index\tUnnamed: 0\tName\tAddress\tSalary\tDOJ\tDOB\tAge\tSex\tDependents\tHRA\tDA\tPF\tGross Salary\tInsurance\tMarital Status\tIn Company Years\tYear of Experience\tDepartment\tPosition\n",
      "0\t0\tVgwbPyBn\tjyNxKZtk St, piZQhYcARo, PUN 172813\t149289.04\t1998-04-27\t1971-03-27\t53\tOther\t2.0\t8776.095999999998\t35233.66637469586\t22142.724764963503\t171156.07760973237\tNone\tWidowed\t26\t32\tSales\tSales Director\n",
      "1\t1\tpgdYaIWk\tPypVsqug St, iHyelKZbFc, BLR 580530\t69761.64\t2020-10-24\t1997-12-12\t26\tMale\t0.0\t9302.836\t16464.425985401456\t10347.127918248174\t85181.77406715328\tBoth\tSingle\t3\t5\tHuman Resources\tHR Executive\n",
      "2\t2\teWgVBGVv\tpfQezTVa St, YfIaELfpUw, BLR 155186\t107633.14\t2020-07-22\t1979-08-20\t44\tFemale\t2.0\t13357.686\t25402.46856447688\t15964.273027737228\t130429.02153673964\tNone\tDivorced\t3\t23\tMarketing\tSenior Marketing Executive\n",
      "*/\u001b[0m\u001b[32;1m\u001b[1;3m\n",
      "Invoking: `sql_db_query` with `{'query': 'SELECT COUNT(*) FROM employee WHERE \"Marital Status\" != \\'Married\\''}`\n",
      "\n",
      "\n",
      "\u001b[0m\u001b[36;1m\u001b[1;3m[(1948,)]\u001b[0m\u001b[32;1m\u001b[1;3m회사에서 결혼 안한 직원은 1,948명입니다.\u001b[0m\n",
      "\n",
      "\u001b[1m> Finished chain.\u001b[0m\n"
     ]
    },
    {
     "data": {
      "text/plain": [
       "{'input': '회사에서 결혼 안한 직원들은 몇명이야?', 'output': '회사에서 결혼 안한 직원은 1,948명입니다.'}"
      ]
     },
     "execution_count": 14,
     "metadata": {},
     "output_type": "execute_result"
    }
   ],
   "source": [
    "from langchain_community.agent_toolkits import create_sql_agent\n",
    "agent_executor = create_sql_agent(llm, db=db, agent_type=\"openai-tools\", verbose=True)\n",
    "agent_executor.invoke({\"input\": \"회사에서 결혼 안한 직원들은 몇명이야?\"})"
   ]
  },
  {
   "cell_type": "code",
   "execution_count": null,
   "id": "260300b9",
   "metadata": {},
   "outputs": [],
   "source": []
  }
 ],
 "metadata": {
  "kernelspec": {
   "display_name": "Python 3 (ipykernel)",
   "language": "python",
   "name": "python3"
  },
  "language_info": {
   "codemirror_mode": {
    "name": "ipython",
    "version": 3
   },
   "file_extension": ".py",
   "mimetype": "text/x-python",
   "name": "python",
   "nbconvert_exporter": "python",
   "pygments_lexer": "ipython3",
   "version": "3.11.4"
  }
 },
 "nbformat": 4,
 "nbformat_minor": 5
}
